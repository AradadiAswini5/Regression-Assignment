{
 "cells": [
  {
   "cell_type": "code",
   "execution_count": 3,
   "id": "f133a2eb-12f3-4646-a193-8b8aef5db00d",
   "metadata": {},
   "outputs": [],
   "source": [
    "import pandas as pd\n",
    "import numpy as np\n",
    "import matplotlib.pyplot as plt\n",
    "dataset=pd.read_csv(\"CKD.csv\")\n",
    "dataset=pd.get_dummies(dataset,drop_first=True)\n",
    "independent=dataset[['age', 'bp', 'al', 'su', 'bgr', 'bu', 'sc', 'sod', 'pot', 'hrmo', 'pcv','wc', 'rc', 'sg_b', 'sg_c', 'sg_d', 'sg_e', 'rbc_normal', 'pc_normal','pcc_present', 'ba_present', 'htn_yes', 'dm_yes', 'cad_yes','appet_yes', 'pe_yes', 'ane_yes']]\n",
    "dependent=dataset[['classification_yes']]\n",
    "from sklearn.model_selection import train_test_split\n",
    "x_train,x_test,y_train,y_test=train_test_split(independent,dependent,test_size=0.30,random_state=0)"
   ]
  },
  {
   "cell_type": "code",
   "execution_count": 4,
   "id": "09d61583-49c4-45e0-a272-7d8fb6ce50d2",
   "metadata": {},
   "outputs": [],
   "source": [
    "from sklearn.preprocessing import StandardScaler\n",
    "sc=StandardScaler()\n",
    "x_train=sc.fit_transform(x_train)\n",
    "x_test=sc.transform(x_test)\n",
    "scy=StandardScaler()\n",
    "y_train=scy.fit_transform(y_train)\n",
    "y_test=scy.transform(y_test)"
   ]
  },
  {
   "cell_type": "code",
   "execution_count": 5,
   "id": "16db7a7a-5304-43bb-a636-eb4f3980fbfb",
   "metadata": {},
   "outputs": [
    {
     "name": "stderr",
     "output_type": "stream",
     "text": [
      "C:\\Anaconda\\Lib\\site-packages\\sklearn\\utils\\validation.py:2739: UserWarning: X does not have valid feature names, but StandardScaler was fitted with feature names\n",
      "  warnings.warn(\n"
     ]
    },
    {
     "data": {
      "text/plain": [
       "array([[-3.02461731e+00, -7.12126211e-03, -6.73673249e-01,\n",
       "         1.63525964e+00, -1.98494771e+00, -1.13333275e+00,\n",
       "        -3.78457117e-01, -1.32912134e+01, -2.10283632e+00,\n",
       "         4.99879150e+01, -2.06913678e+00, -3.51671225e+00,\n",
       "         1.63183316e+02,  1.14039957e+01,  2.53588036e+01,\n",
       "         8.96299934e+01,  9.27146575e+04,  1.13168299e+01,\n",
       "        -1.99553072e+00, -3.33996684e-01, -2.29848186e-01,\n",
       "         1.35902126e+00,  1.36977686e+00, -2.99739470e-01,\n",
       "        -1.97350876e+00,  1.95201046e+00,  2.28035085e+00]])"
      ]
     },
     "execution_count": 5,
     "metadata": {},
     "output_type": "execute_result"
    }
   ],
   "source": [
    "preinput=sc.transform([[3,76.45994832,0,2,0,1,1,0,0,148.1126761,22,0.7,137.528754,4.62724359,10.7,34,12300,4.705597015,0,0,0,1,1,0,0\n",
    ",1,1]]) \n",
    "preinput"
   ]
  },
  {
   "cell_type": "code",
   "execution_count": 8,
   "id": "1935c585-bd10-4026-b46a-77996d64126f",
   "metadata": {},
   "outputs": [
    {
     "name": "stdout",
     "output_type": "stream",
     "text": [
      "1\n"
     ]
    }
   ],
   "source": [
    "loaded_model=pickle.load(open(\"finalized_model_LR.sav\",'rb'))\n",
    "result=loaded_model.predict(preinput) \n",
    "print(int(result[0]))"
   ]
  },
  {
   "cell_type": "code",
   "execution_count": 9,
   "id": "0c7197fd-5915-4030-9d1b-1fe36a86157f",
   "metadata": {},
   "outputs": [
    {
     "data": {
      "text/plain": [
       "array([[1.10812388]])"
      ]
     },
     "execution_count": 9,
     "metadata": {},
     "output_type": "execute_result"
    }
   ],
   "source": [
    "preoutput=scy.inverse_transform([result])\n",
    "preoutput"
   ]
  },
  {
   "cell_type": "code",
   "execution_count": null,
   "id": "758854d6-bcd9-434f-8935-d5dfa3711372",
   "metadata": {},
   "outputs": [],
   "source": []
  }
 ],
 "metadata": {
  "kernelspec": {
   "display_name": "Python [conda env:base] *",
   "language": "python",
   "name": "conda-base-py"
  },
  "language_info": {
   "codemirror_mode": {
    "name": "ipython",
    "version": 3
   },
   "file_extension": ".py",
   "mimetype": "text/x-python",
   "name": "python",
   "nbconvert_exporter": "python",
   "pygments_lexer": "ipython3",
   "version": "3.13.5"
  }
 },
 "nbformat": 4,
 "nbformat_minor": 5
}
